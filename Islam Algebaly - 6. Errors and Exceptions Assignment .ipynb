{
 "cells": [
  {
   "cell_type": "markdown",
   "metadata": {},
   "source": [
    "> # Dear Epsilon Students, \n",
    "> # The More you practice The better You'll Be."
   ]
  },
  {
   "cell_type": "markdown",
   "metadata": {},
   "source": [
    "### Instructions: \n",
    "- Make sure that you understand this topics before you start.\n",
    "- If you found something hard to do, try and try then google it and finally ask someone. \n",
    "- You can divide this work into daily tasks so that you do not feel pressure.\n",
    "- After you finish, go to model answer and rate yourself. \n",
    "- If you find something ambiguous, Try to make a hypothesis to solve a problem. "
   ]
  },
  {
   "cell_type": "markdown",
   "metadata": {},
   "source": [
    "### Question classification: \n",
    "- Green is level 1 \n",
    "- Orange is level 2 \n",
    "- Red is level 3 "
   ]
  },
  {
   "cell_type": "markdown",
   "metadata": {},
   "source": [
    "# <center> Let's start 💪 </center> "
   ]
  },
  {
   "cell_type": "markdown",
   "metadata": {},
   "source": [
    "## <p style=\"color:green;\">Q.01 Handle the exception thrown by the code below by using <code>try</code> and <code>except</code> blocks.</p>\n"
   ]
  },
  {
   "cell_type": "code",
   "execution_count": 5,
   "metadata": {},
   "outputs": [
    {
     "name": "stdout",
     "output_type": "stream",
     "text": [
      "unsupported operand type(s) for ** or pow(): 'str' and 'int'\n",
      "unsupported operand type(s) for ** or pow(): 'str' and 'int'\n",
      "unsupported operand type(s) for ** or pow(): 'str' and 'int'\n"
     ]
    }
   ],
   "source": [
    "# Answer here \n",
    "\n",
    "for i in ['a','b','c']:\n",
    "    try:\n",
    "        print(i**2)\n",
    "    except TypeError as e:\n",
    "        print(e)"
   ]
  },
  {
   "cell_type": "markdown",
   "metadata": {},
   "source": [
    "## <p style=\"color:green;\">Q.02 Handle the exception thrown by the code below by using <code>try</code> and <code>except</code> blocks. Then use a <code>finally</code> block to print 'All Done.'</p>"
   ]
  },
  {
   "cell_type": "code",
   "execution_count": 8,
   "metadata": {},
   "outputs": [
    {
     "name": "stdout",
     "output_type": "stream",
     "text": [
      "division by zero\n"
     ]
    }
   ],
   "source": [
    "# Answer here \n",
    "x = 5\n",
    "y = 0\n",
    "try:\n",
    "    z = x/y\n",
    "except ZeroDivisionError as e:\n",
    "    print(e)"
   ]
  },
  {
   "cell_type": "markdown",
   "metadata": {},
   "source": [
    "## <p style=\"color:green;\">Q.03 Write a function that asks for an integer and prints the square of it. Use a <code>while</code> loop with a <code>try</code>, <code>except</code>, <code>else</code> block to account for incorrect inputs.</p>"
   ]
  },
  {
   "cell_type": "code",
   "execution_count": 24,
   "metadata": {},
   "outputs": [
    {
     "name": "stdout",
     "output_type": "stream",
     "text": [
      "Please enter an integer: ask\n",
      "Error: You entered a non integer value. Please try again.\n",
      "Please enter an integer: 2.2\n",
      "Error: You entered a non integer value. Please try again.\n",
      "Please enter an integer: 2.34\n",
      "Error: You entered a non integer value. Please try again.\n",
      "Please enter an integer: 5\n",
      "25\n"
     ]
    }
   ],
   "source": [
    "# Answer here \n",
    "def ask():\n",
    "    while True:\n",
    "        try:\n",
    "            num = int(input(\"Please enter an integer: \"))\n",
    "        except ValueError as e:\n",
    "                print(\"Error: You entered a non integer value. Please try again.\")\n",
    "        else:\n",
    "            print(num ** 2)\n",
    "            break\n",
    "ask()\n",
    "            "
   ]
  },
  {
   "cell_type": "markdown",
   "metadata": {},
   "source": [
    "# <center> Thank's for your effort ❤️ </center> "
   ]
  },
  {
   "cell_type": "code",
   "execution_count": 18,
   "metadata": {},
   "outputs": [
    {
     "data": {
      "text/plain": [
       "(2, 0)"
      ]
     },
     "execution_count": 18,
     "metadata": {},
     "output_type": "execute_result"
    }
   ],
   "source": []
  },
  {
   "cell_type": "code",
   "execution_count": null,
   "metadata": {},
   "outputs": [],
   "source": []
  }
 ],
 "metadata": {
  "kernelspec": {
   "display_name": "Python 3 (ipykernel)",
   "language": "python",
   "name": "python3"
  },
  "language_info": {
   "codemirror_mode": {
    "name": "ipython",
    "version": 3
   },
   "file_extension": ".py",
   "mimetype": "text/x-python",
   "name": "python",
   "nbconvert_exporter": "python",
   "pygments_lexer": "ipython3",
   "version": "3.11.0"
  }
 },
 "nbformat": 4,
 "nbformat_minor": 4
}
